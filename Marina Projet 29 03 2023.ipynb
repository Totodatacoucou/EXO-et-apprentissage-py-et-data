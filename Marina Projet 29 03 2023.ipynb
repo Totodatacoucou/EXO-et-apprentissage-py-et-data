{
 "cells": [
  {
   "cell_type": "markdown",
   "id": "3f89f923",
   "metadata": {},
   "source": [
    "# Un nouveau Jupyter Notebook / continuation travail précedent / la partie machine Learning prediction"
   ]
  },
  {
   "cell_type": "code",
   "execution_count": 24,
   "id": "d67d8bdb",
   "metadata": {},
   "outputs": [],
   "source": [
    "import warnings\n",
    "warnings.simplefilter('ignore')\n",
    "import numpy as np\n",
    "import pandas as pd\n",
    "import seaborn as sns\n",
    "import matplotlib.pyplot as plt\n",
    "from sklearn.metrics import auc, roc_curve, classification_report\n",
    "%matplotlib inline\n",
    "from sklearn.model_selection import train_test_split\n",
    "from sklearn.ensemble import RandomForestClassifier\n",
    "from sklearn.preprocessing import LabelEncoder\n",
    "from sklearn.model_selection import train_test_split, cross_val_score, cross_val_predict\n",
    "from sklearn.metrics import confusion_matrix"
   ]
  },
  {
   "cell_type": "markdown",
   "id": "4b879225",
   "metadata": {},
   "source": [
    "# j'importe ma data frame travaillée auparavant par la methode magique de python '%store -r':"
   ]
  },
  {
   "cell_type": "code",
   "execution_count": 3,
   "id": "ebe09583",
   "metadata": {},
   "outputs": [
    {
     "data": {
      "text/html": [
       "<div>\n",
       "<style scoped>\n",
       "    .dataframe tbody tr th:only-of-type {\n",
       "        vertical-align: middle;\n",
       "    }\n",
       "\n",
       "    .dataframe tbody tr th {\n",
       "        vertical-align: top;\n",
       "    }\n",
       "\n",
       "    .dataframe thead th {\n",
       "        text-align: right;\n",
       "    }\n",
       "</style>\n",
       "<table border=\"1\" class=\"dataframe\">\n",
       "  <thead>\n",
       "    <tr style=\"text-align: right;\">\n",
       "      <th></th>\n",
       "      <th>Num_Acc num_veh</th>\n",
       "      <th>mois</th>\n",
       "      <th>an</th>\n",
       "      <th>lum</th>\n",
       "      <th>dep</th>\n",
       "      <th>agg</th>\n",
       "      <th>int</th>\n",
       "      <th>atm</th>\n",
       "      <th>col</th>\n",
       "      <th>catr</th>\n",
       "      <th>...</th>\n",
       "      <th>sexe</th>\n",
       "      <th>trajet</th>\n",
       "      <th>secu1</th>\n",
       "      <th>secu2</th>\n",
       "      <th>actp</th>\n",
       "      <th>etatp</th>\n",
       "      <th>catv</th>\n",
       "      <th>obsm</th>\n",
       "      <th>occutc</th>\n",
       "      <th>age</th>\n",
       "    </tr>\n",
       "  </thead>\n",
       "  <tbody>\n",
       "    <tr>\n",
       "      <th>0</th>\n",
       "      <td>202100000001 B01</td>\n",
       "      <td>10</td>\n",
       "      <td>5</td>\n",
       "      <td>2</td>\n",
       "      <td>30</td>\n",
       "      <td>0</td>\n",
       "      <td>1</td>\n",
       "      <td>1</td>\n",
       "      <td>1</td>\n",
       "      <td>3</td>\n",
       "      <td>...</td>\n",
       "      <td>1</td>\n",
       "      <td>1</td>\n",
       "      <td>0.0</td>\n",
       "      <td>9.0</td>\n",
       "      <td>0</td>\n",
       "      <td>-1.0</td>\n",
       "      <td>1.0</td>\n",
       "      <td>2.0</td>\n",
       "      <td>0.0</td>\n",
       "      <td>22</td>\n",
       "    </tr>\n",
       "    <tr>\n",
       "      <th>1</th>\n",
       "      <td>202100000001 A01</td>\n",
       "      <td>10</td>\n",
       "      <td>5</td>\n",
       "      <td>2</td>\n",
       "      <td>30</td>\n",
       "      <td>0</td>\n",
       "      <td>1</td>\n",
       "      <td>1</td>\n",
       "      <td>1</td>\n",
       "      <td>3</td>\n",
       "      <td>...</td>\n",
       "      <td>1</td>\n",
       "      <td>1</td>\n",
       "      <td>1.0</td>\n",
       "      <td>-1.0</td>\n",
       "      <td>0</td>\n",
       "      <td>-1.0</td>\n",
       "      <td>7.0</td>\n",
       "      <td>9.0</td>\n",
       "      <td>0.0</td>\n",
       "      <td>44</td>\n",
       "    </tr>\n",
       "    <tr>\n",
       "      <th>2</th>\n",
       "      <td>202100000002 A01</td>\n",
       "      <td>8</td>\n",
       "      <td>5</td>\n",
       "      <td>1</td>\n",
       "      <td>51</td>\n",
       "      <td>0</td>\n",
       "      <td>3</td>\n",
       "      <td>1</td>\n",
       "      <td>3</td>\n",
       "      <td>3</td>\n",
       "      <td>...</td>\n",
       "      <td>1</td>\n",
       "      <td>3</td>\n",
       "      <td>1.0</td>\n",
       "      <td>-1.0</td>\n",
       "      <td>0</td>\n",
       "      <td>-1.0</td>\n",
       "      <td>7.0</td>\n",
       "      <td>2.0</td>\n",
       "      <td>0.0</td>\n",
       "      <td>39</td>\n",
       "    </tr>\n",
       "    <tr>\n",
       "      <th>3</th>\n",
       "      <td>202100000002 B01</td>\n",
       "      <td>8</td>\n",
       "      <td>5</td>\n",
       "      <td>1</td>\n",
       "      <td>51</td>\n",
       "      <td>0</td>\n",
       "      <td>3</td>\n",
       "      <td>1</td>\n",
       "      <td>3</td>\n",
       "      <td>3</td>\n",
       "      <td>...</td>\n",
       "      <td>1</td>\n",
       "      <td>3</td>\n",
       "      <td>1.0</td>\n",
       "      <td>-1.0</td>\n",
       "      <td>0</td>\n",
       "      <td>-1.0</td>\n",
       "      <td>7.0</td>\n",
       "      <td>2.0</td>\n",
       "      <td>0.0</td>\n",
       "      <td>29</td>\n",
       "    </tr>\n",
       "    <tr>\n",
       "      <th>4</th>\n",
       "      <td>202100000003 A01</td>\n",
       "      <td>6</td>\n",
       "      <td>5</td>\n",
       "      <td>1</td>\n",
       "      <td>85</td>\n",
       "      <td>1</td>\n",
       "      <td>1</td>\n",
       "      <td>7</td>\n",
       "      <td>6</td>\n",
       "      <td>4</td>\n",
       "      <td>...</td>\n",
       "      <td>1</td>\n",
       "      <td>1</td>\n",
       "      <td>1.0</td>\n",
       "      <td>0.0</td>\n",
       "      <td>0</td>\n",
       "      <td>-1.0</td>\n",
       "      <td>7.0</td>\n",
       "      <td>1.0</td>\n",
       "      <td>0.0</td>\n",
       "      <td>27</td>\n",
       "    </tr>\n",
       "    <tr>\n",
       "      <th>...</th>\n",
       "      <td>...</td>\n",
       "      <td>...</td>\n",
       "      <td>...</td>\n",
       "      <td>...</td>\n",
       "      <td>...</td>\n",
       "      <td>...</td>\n",
       "      <td>...</td>\n",
       "      <td>...</td>\n",
       "      <td>...</td>\n",
       "      <td>...</td>\n",
       "      <td>...</td>\n",
       "      <td>...</td>\n",
       "      <td>...</td>\n",
       "      <td>...</td>\n",
       "      <td>...</td>\n",
       "      <td>...</td>\n",
       "      <td>...</td>\n",
       "      <td>...</td>\n",
       "      <td>...</td>\n",
       "      <td>...</td>\n",
       "      <td>...</td>\n",
       "    </tr>\n",
       "    <tr>\n",
       "      <th>767032</th>\n",
       "      <td>201600059431 A01</td>\n",
       "      <td>11</td>\n",
       "      <td>0</td>\n",
       "      <td>1</td>\n",
       "      <td>976</td>\n",
       "      <td>1</td>\n",
       "      <td>3</td>\n",
       "      <td>1</td>\n",
       "      <td>3</td>\n",
       "      <td>2</td>\n",
       "      <td>...</td>\n",
       "      <td>1</td>\n",
       "      <td>3</td>\n",
       "      <td>21.0</td>\n",
       "      <td>0.0</td>\n",
       "      <td>0</td>\n",
       "      <td>0.0</td>\n",
       "      <td>30.0</td>\n",
       "      <td>2.0</td>\n",
       "      <td>0.0</td>\n",
       "      <td>23</td>\n",
       "    </tr>\n",
       "    <tr>\n",
       "      <th>767033</th>\n",
       "      <td>201600059431 B01</td>\n",
       "      <td>11</td>\n",
       "      <td>0</td>\n",
       "      <td>1</td>\n",
       "      <td>976</td>\n",
       "      <td>1</td>\n",
       "      <td>3</td>\n",
       "      <td>1</td>\n",
       "      <td>3</td>\n",
       "      <td>2</td>\n",
       "      <td>...</td>\n",
       "      <td>1</td>\n",
       "      <td>3</td>\n",
       "      <td>21.0</td>\n",
       "      <td>0.0</td>\n",
       "      <td>0</td>\n",
       "      <td>0.0</td>\n",
       "      <td>30.0</td>\n",
       "      <td>2.0</td>\n",
       "      <td>0.0</td>\n",
       "      <td>27</td>\n",
       "    </tr>\n",
       "    <tr>\n",
       "      <th>767034</th>\n",
       "      <td>201600059432 A01</td>\n",
       "      <td>11</td>\n",
       "      <td>0</td>\n",
       "      <td>1</td>\n",
       "      <td>976</td>\n",
       "      <td>1</td>\n",
       "      <td>6</td>\n",
       "      <td>1</td>\n",
       "      <td>3</td>\n",
       "      <td>2</td>\n",
       "      <td>...</td>\n",
       "      <td>1</td>\n",
       "      <td>0</td>\n",
       "      <td>21.0</td>\n",
       "      <td>0.0</td>\n",
       "      <td>0</td>\n",
       "      <td>0.0</td>\n",
       "      <td>2.0</td>\n",
       "      <td>2.0</td>\n",
       "      <td>0.0</td>\n",
       "      <td>50</td>\n",
       "    </tr>\n",
       "    <tr>\n",
       "      <th>767035</th>\n",
       "      <td>201600059432 A01</td>\n",
       "      <td>11</td>\n",
       "      <td>0</td>\n",
       "      <td>1</td>\n",
       "      <td>976</td>\n",
       "      <td>1</td>\n",
       "      <td>6</td>\n",
       "      <td>1</td>\n",
       "      <td>3</td>\n",
       "      <td>2</td>\n",
       "      <td>...</td>\n",
       "      <td>1</td>\n",
       "      <td>3</td>\n",
       "      <td>21.0</td>\n",
       "      <td>0.0</td>\n",
       "      <td>0</td>\n",
       "      <td>0.0</td>\n",
       "      <td>2.0</td>\n",
       "      <td>2.0</td>\n",
       "      <td>0.0</td>\n",
       "      <td>50</td>\n",
       "    </tr>\n",
       "    <tr>\n",
       "      <th>767036</th>\n",
       "      <td>201600059432 B01</td>\n",
       "      <td>11</td>\n",
       "      <td>0</td>\n",
       "      <td>1</td>\n",
       "      <td>976</td>\n",
       "      <td>1</td>\n",
       "      <td>6</td>\n",
       "      <td>1</td>\n",
       "      <td>3</td>\n",
       "      <td>2</td>\n",
       "      <td>...</td>\n",
       "      <td>1</td>\n",
       "      <td>3</td>\n",
       "      <td>11.0</td>\n",
       "      <td>0.0</td>\n",
       "      <td>0</td>\n",
       "      <td>0.0</td>\n",
       "      <td>7.0</td>\n",
       "      <td>2.0</td>\n",
       "      <td>0.0</td>\n",
       "      <td>36</td>\n",
       "    </tr>\n",
       "  </tbody>\n",
       "</table>\n",
       "<p>767037 rows × 29 columns</p>\n",
       "</div>"
      ],
      "text/plain": [
       "         Num_Acc num_veh  mois  an  lum  dep  agg  int  atm  col  catr  ...  \\\n",
       "0       202100000001 B01    10   5    2   30    0    1    1    1     3  ...   \n",
       "1       202100000001 A01    10   5    2   30    0    1    1    1     3  ...   \n",
       "2       202100000002 A01     8   5    1   51    0    3    1    3     3  ...   \n",
       "3       202100000002 B01     8   5    1   51    0    3    1    3     3  ...   \n",
       "4       202100000003 A01     6   5    1   85    1    1    7    6     4  ...   \n",
       "...                  ...   ...  ..  ...  ...  ...  ...  ...  ...   ...  ...   \n",
       "767032  201600059431 A01    11   0    1  976    1    3    1    3     2  ...   \n",
       "767033  201600059431 B01    11   0    1  976    1    3    1    3     2  ...   \n",
       "767034  201600059432 A01    11   0    1  976    1    6    1    3     2  ...   \n",
       "767035  201600059432 A01    11   0    1  976    1    6    1    3     2  ...   \n",
       "767036  201600059432 B01    11   0    1  976    1    6    1    3     2  ...   \n",
       "\n",
       "        sexe  trajet  secu1  secu2  actp  etatp  catv  obsm occutc  age  \n",
       "0          1       1    0.0    9.0     0   -1.0   1.0   2.0    0.0   22  \n",
       "1          1       1    1.0   -1.0     0   -1.0   7.0   9.0    0.0   44  \n",
       "2          1       3    1.0   -1.0     0   -1.0   7.0   2.0    0.0   39  \n",
       "3          1       3    1.0   -1.0     0   -1.0   7.0   2.0    0.0   29  \n",
       "4          1       1    1.0    0.0     0   -1.0   7.0   1.0    0.0   27  \n",
       "...      ...     ...    ...    ...   ...    ...   ...   ...    ...  ...  \n",
       "767032     1       3   21.0    0.0     0    0.0  30.0   2.0    0.0   23  \n",
       "767033     1       3   21.0    0.0     0    0.0  30.0   2.0    0.0   27  \n",
       "767034     1       0   21.0    0.0     0    0.0   2.0   2.0    0.0   50  \n",
       "767035     1       3   21.0    0.0     0    0.0   2.0   2.0    0.0   50  \n",
       "767036     1       3   11.0    0.0     0    0.0   7.0   2.0    0.0   36  \n",
       "\n",
       "[767037 rows x 29 columns]"
      ]
     },
     "execution_count": 3,
     "metadata": {},
     "output_type": "execute_result"
    }
   ],
   "source": [
    "%store -r accidents_France_2016_2021_\n",
    "\n",
    "data_accident = accidents_France_2016_2021_.copy()\n",
    "data_accident\n",
    "\n",
    "# visualisation de data :"
   ]
  },
  {
   "cell_type": "code",
   "execution_count": 39,
   "id": "001e054c",
   "metadata": {},
   "outputs": [
    {
     "name": "stdout",
     "output_type": "stream",
     "text": [
      "LabelEncoder\t RandomForestClassifier\t X\t X_test\t X_train\t accidents_France_2016_2021_\t browser_labelEncoder\t clf\t columns\t \n",
      "country_labelEncoder\t cross_val_predict\t cross_val_score\t data_accident\t pd\t sex_labelEncoder\t source_labelEncoder\t train_test_split\t y\t \n",
      "y_test\t y_train\t \n"
     ]
    }
   ],
   "source": [
    " %who "
   ]
  },
  {
   "cell_type": "code",
   "execution_count": 50,
   "id": "597d5e22",
   "metadata": {},
   "outputs": [
    {
     "name": "stdout",
     "output_type": "stream",
     "text": [
      "Variable                      Type                      Data/Info\n",
      "-----------------------------------------------------------------\n",
      "LabelEncoder                  type                      <class 'sklearn.preproces<...>ing._label.LabelEncoder'>\n",
      "RandomForestClassifier        ABCMeta                   <class 'sklearn.ensemble.<...>.RandomForestClassifier'>\n",
      "X                             DataFrame                         lum  trajet  grav<...>[767037 rows x 9 columns]\n",
      "X_test                        DataFrame                         lum  trajet  grav<...>[230112 rows x 9 columns]\n",
      "X_train                       DataFrame                         lum  trajet  grav<...>[536925 rows x 9 columns]\n",
      "accidents_France_2016_2021_   DataFrame                          Num_Acc num_veh <...>767037 rows x 29 columns]\n",
      "age_labelEncoder              LabelEncoder              LabelEncoder()\n",
      "agg_labelEncoder              LabelEncoder              LabelEncoder()\n",
      "atm_labelEncoder              LabelEncoder              LabelEncoder()\n",
      "auc                           function                  <function auc at 0x000001AB69958D30>\n",
      "catr_labelEncoder             LabelEncoder              LabelEncoder()\n",
      "classification_report         function                  <function classification_<...>rt at 0x000001AB69A12790>\n",
      "clf                           RandomForestClassifier    RandomForestClassifier()\n",
      "cm                            ndarray                   5x5: 25 elems, type `int64`, 200 bytes\n",
      "columns                       list                      n=9\n",
      "confusion_matrix              function                  <function confusion_matrix at 0x000001AB69A09EE0>\n",
      "cross_val_predict             function                  <function cross_val_predi<...>ct at 0x000001AB69B22670>\n",
      "cross_val_score               function                  <function cross_val_score at 0x000001AB69B224C0>\n",
      "data_accident                 DataFrame                          Num_Acc num_veh <...>767037 rows x 29 columns]\n",
      "data_accident2                DataFrame                         lum  trajet  atm <...>[767037 rows x 9 columns]\n",
      "feature_imp                   Series                    grav      0.971610\\nage  <...> 0.000362\\ndtype: float64\n",
      "lum_labelEncoder              LabelEncoder              LabelEncoder()\n",
      "new_order                     list                      n=9\n",
      "np                            module                    <module 'numpy' from 'C:\\<...>ges\\\\numpy\\\\__init__.py'>\n",
      "pd                            module                    <module 'pandas' from 'C:<...>es\\\\pandas\\\\__init__.py'>\n",
      "plt                           module                    <module 'matplotlib.pyplo<...>\\\\matplotlib\\\\pyplot.py'>\n",
      "roc_curve                     function                  <function roc_curve at 0x000001AB69A05EE0>\n",
      "scores                        float64                   1.0\n",
      "sns                           module                    <module 'seaborn' from 'C<...>s\\\\seaborn\\\\__init__.py'>\n",
      "surf_labelEncoder             LabelEncoder              LabelEncoder()\n",
      "train_test_split              function                  <function train_test_split at 0x000001AB69B14670>\n",
      "trajet_labelEncoder           LabelEncoder              LabelEncoder()\n",
      "vma_labelEncoder              LabelEncoder              LabelEncoder()\n",
      "warnings                      module                    <module 'warnings' from '<...>onda3\\\\lib\\\\warnings.py'>\n",
      "y                             Series                    0         3\\n1         1\\<...>gth: 767037, dtype: int64\n",
      "y_pred                        ndarray                   230112x5: 1150560 elems, type `uint8`, 1150560 bytes (1.097259521484375 Mb)\n",
      "y_test                        DataFrame                         -1   1   2   3   <...>[230112 rows x 5 columns]\n",
      "y_train                       DataFrame                         -1   1   2   3   <...>[536925 rows x 5 columns]\n"
     ]
    }
   ],
   "source": [
    "%whos"
   ]
  },
  {
   "cell_type": "markdown",
   "id": "110e4112",
   "metadata": {},
   "source": [
    "# On va definir nos features et nos  target pour les utiliser dans notre ML et la prediction :"
   ]
  },
  {
   "cell_type": "code",
   "execution_count": 4,
   "id": "3df1c78a",
   "metadata": {},
   "outputs": [
    {
     "data": {
      "text/html": [
       "<div>\n",
       "<style scoped>\n",
       "    .dataframe tbody tr th:only-of-type {\n",
       "        vertical-align: middle;\n",
       "    }\n",
       "\n",
       "    .dataframe tbody tr th {\n",
       "        vertical-align: top;\n",
       "    }\n",
       "\n",
       "    .dataframe thead th {\n",
       "        text-align: right;\n",
       "    }\n",
       "</style>\n",
       "<table border=\"1\" class=\"dataframe\">\n",
       "  <thead>\n",
       "    <tr style=\"text-align: right;\">\n",
       "      <th></th>\n",
       "      <th>lum</th>\n",
       "      <th>trajet</th>\n",
       "      <th>grav</th>\n",
       "      <th>atm</th>\n",
       "      <th>surf</th>\n",
       "      <th>vma</th>\n",
       "      <th>age</th>\n",
       "      <th>catr</th>\n",
       "      <th>agg</th>\n",
       "    </tr>\n",
       "  </thead>\n",
       "  <tbody>\n",
       "    <tr>\n",
       "      <th>0</th>\n",
       "      <td>2</td>\n",
       "      <td>1</td>\n",
       "      <td>Blessé hospitalisé</td>\n",
       "      <td>1</td>\n",
       "      <td>2</td>\n",
       "      <td>5</td>\n",
       "      <td>22</td>\n",
       "      <td>3</td>\n",
       "      <td>0</td>\n",
       "    </tr>\n",
       "    <tr>\n",
       "      <th>1</th>\n",
       "      <td>2</td>\n",
       "      <td>1</td>\n",
       "      <td>Indemne</td>\n",
       "      <td>1</td>\n",
       "      <td>2</td>\n",
       "      <td>5</td>\n",
       "      <td>44</td>\n",
       "      <td>3</td>\n",
       "      <td>0</td>\n",
       "    </tr>\n",
       "    <tr>\n",
       "      <th>2</th>\n",
       "      <td>1</td>\n",
       "      <td>3</td>\n",
       "      <td>Blessé léger</td>\n",
       "      <td>1</td>\n",
       "      <td>2</td>\n",
       "      <td>5</td>\n",
       "      <td>39</td>\n",
       "      <td>3</td>\n",
       "      <td>0</td>\n",
       "    </tr>\n",
       "    <tr>\n",
       "      <th>3</th>\n",
       "      <td>1</td>\n",
       "      <td>3</td>\n",
       "      <td>Blessé hospitalisé</td>\n",
       "      <td>1</td>\n",
       "      <td>2</td>\n",
       "      <td>5</td>\n",
       "      <td>29</td>\n",
       "      <td>3</td>\n",
       "      <td>0</td>\n",
       "    </tr>\n",
       "    <tr>\n",
       "      <th>4</th>\n",
       "      <td>1</td>\n",
       "      <td>1</td>\n",
       "      <td>Indemne</td>\n",
       "      <td>7</td>\n",
       "      <td>2</td>\n",
       "      <td>3</td>\n",
       "      <td>27</td>\n",
       "      <td>4</td>\n",
       "      <td>1</td>\n",
       "    </tr>\n",
       "  </tbody>\n",
       "</table>\n",
       "</div>"
      ],
      "text/plain": [
       "   lum  trajet                grav  atm  surf  vma  age  catr  agg\n",
       "0    2       1  Blessé hospitalisé    1     2    5   22     3    0\n",
       "1    2       1             Indemne    1     2    5   44     3    0\n",
       "2    1       3        Blessé léger    1     2    5   39     3    0\n",
       "3    1       3  Blessé hospitalisé    1     2    5   29     3    0\n",
       "4    1       1             Indemne    7     2    3   27     4    1"
      ]
     },
     "execution_count": 4,
     "metadata": {},
     "output_type": "execute_result"
    }
   ],
   "source": [
    "# On va definir nos features et nos  target pour les utiliser dans notre ML et la prediction :\n",
    "\n",
    "columns = ['lum', 'trajet', 'grav','atm', 'surf', 'vma', 'age', 'catr','agg']\n",
    "data_accident2 = data_accident[columns]\n",
    "data_accident2.head()"
   ]
  },
  {
   "cell_type": "markdown",
   "id": "df8eb495",
   "metadata": {},
   "source": [
    "# Mon objectif est de prédire la gravité des accidents, je veux placer la colonne 'grav' comme derniere colonne dans ma data set, je change l'emplacement de la colonne : "
   ]
  },
  {
   "cell_type": "code",
   "execution_count": 5,
   "id": "e297ee01",
   "metadata": {},
   "outputs": [],
   "source": [
    "# créer une liste avec l'ordre souhaité des colonnes\n",
    "new_order = list(data_accident2.columns[:2]) + list(data_accident2.columns[3:]) + ['grav']\n",
    "\n",
    "# réindexer la dataframe avec le nouvel ordre de colonnes\n",
    "data_accident2 = data_accident2.reindex(columns=new_order)\n"
   ]
  },
  {
   "cell_type": "code",
   "execution_count": 6,
   "id": "8c8dfce7",
   "metadata": {},
   "outputs": [
    {
     "data": {
      "text/html": [
       "<div>\n",
       "<style scoped>\n",
       "    .dataframe tbody tr th:only-of-type {\n",
       "        vertical-align: middle;\n",
       "    }\n",
       "\n",
       "    .dataframe tbody tr th {\n",
       "        vertical-align: top;\n",
       "    }\n",
       "\n",
       "    .dataframe thead th {\n",
       "        text-align: right;\n",
       "    }\n",
       "</style>\n",
       "<table border=\"1\" class=\"dataframe\">\n",
       "  <thead>\n",
       "    <tr style=\"text-align: right;\">\n",
       "      <th></th>\n",
       "      <th>lum</th>\n",
       "      <th>trajet</th>\n",
       "      <th>atm</th>\n",
       "      <th>surf</th>\n",
       "      <th>vma</th>\n",
       "      <th>age</th>\n",
       "      <th>catr</th>\n",
       "      <th>agg</th>\n",
       "      <th>grav</th>\n",
       "    </tr>\n",
       "  </thead>\n",
       "  <tbody>\n",
       "    <tr>\n",
       "      <th>0</th>\n",
       "      <td>2</td>\n",
       "      <td>1</td>\n",
       "      <td>1</td>\n",
       "      <td>2</td>\n",
       "      <td>5</td>\n",
       "      <td>22</td>\n",
       "      <td>3</td>\n",
       "      <td>0</td>\n",
       "      <td>Blessé hospitalisé</td>\n",
       "    </tr>\n",
       "    <tr>\n",
       "      <th>1</th>\n",
       "      <td>2</td>\n",
       "      <td>1</td>\n",
       "      <td>1</td>\n",
       "      <td>2</td>\n",
       "      <td>5</td>\n",
       "      <td>44</td>\n",
       "      <td>3</td>\n",
       "      <td>0</td>\n",
       "      <td>Indemne</td>\n",
       "    </tr>\n",
       "    <tr>\n",
       "      <th>2</th>\n",
       "      <td>1</td>\n",
       "      <td>3</td>\n",
       "      <td>1</td>\n",
       "      <td>2</td>\n",
       "      <td>5</td>\n",
       "      <td>39</td>\n",
       "      <td>3</td>\n",
       "      <td>0</td>\n",
       "      <td>Blessé léger</td>\n",
       "    </tr>\n",
       "    <tr>\n",
       "      <th>3</th>\n",
       "      <td>1</td>\n",
       "      <td>3</td>\n",
       "      <td>1</td>\n",
       "      <td>2</td>\n",
       "      <td>5</td>\n",
       "      <td>29</td>\n",
       "      <td>3</td>\n",
       "      <td>0</td>\n",
       "      <td>Blessé hospitalisé</td>\n",
       "    </tr>\n",
       "    <tr>\n",
       "      <th>4</th>\n",
       "      <td>1</td>\n",
       "      <td>1</td>\n",
       "      <td>7</td>\n",
       "      <td>2</td>\n",
       "      <td>3</td>\n",
       "      <td>27</td>\n",
       "      <td>4</td>\n",
       "      <td>1</td>\n",
       "      <td>Indemne</td>\n",
       "    </tr>\n",
       "    <tr>\n",
       "      <th>...</th>\n",
       "      <td>...</td>\n",
       "      <td>...</td>\n",
       "      <td>...</td>\n",
       "      <td>...</td>\n",
       "      <td>...</td>\n",
       "      <td>...</td>\n",
       "      <td>...</td>\n",
       "      <td>...</td>\n",
       "      <td>...</td>\n",
       "    </tr>\n",
       "    <tr>\n",
       "      <th>767032</th>\n",
       "      <td>1</td>\n",
       "      <td>3</td>\n",
       "      <td>1</td>\n",
       "      <td>2</td>\n",
       "      <td>7</td>\n",
       "      <td>23</td>\n",
       "      <td>2</td>\n",
       "      <td>1</td>\n",
       "      <td>Blessé léger</td>\n",
       "    </tr>\n",
       "    <tr>\n",
       "      <th>767033</th>\n",
       "      <td>1</td>\n",
       "      <td>3</td>\n",
       "      <td>1</td>\n",
       "      <td>2</td>\n",
       "      <td>7</td>\n",
       "      <td>27</td>\n",
       "      <td>2</td>\n",
       "      <td>1</td>\n",
       "      <td>Blessé léger</td>\n",
       "    </tr>\n",
       "    <tr>\n",
       "      <th>767034</th>\n",
       "      <td>1</td>\n",
       "      <td>0</td>\n",
       "      <td>1</td>\n",
       "      <td>2</td>\n",
       "      <td>7</td>\n",
       "      <td>50</td>\n",
       "      <td>2</td>\n",
       "      <td>1</td>\n",
       "      <td>Blessé léger</td>\n",
       "    </tr>\n",
       "    <tr>\n",
       "      <th>767035</th>\n",
       "      <td>1</td>\n",
       "      <td>3</td>\n",
       "      <td>1</td>\n",
       "      <td>2</td>\n",
       "      <td>7</td>\n",
       "      <td>50</td>\n",
       "      <td>2</td>\n",
       "      <td>1</td>\n",
       "      <td>Blessé léger</td>\n",
       "    </tr>\n",
       "    <tr>\n",
       "      <th>767036</th>\n",
       "      <td>1</td>\n",
       "      <td>3</td>\n",
       "      <td>1</td>\n",
       "      <td>2</td>\n",
       "      <td>7</td>\n",
       "      <td>36</td>\n",
       "      <td>2</td>\n",
       "      <td>1</td>\n",
       "      <td>Indemne</td>\n",
       "    </tr>\n",
       "  </tbody>\n",
       "</table>\n",
       "<p>767037 rows × 9 columns</p>\n",
       "</div>"
      ],
      "text/plain": [
       "        lum  trajet  atm  surf  vma  age  catr  agg                grav\n",
       "0         2       1    1     2    5   22     3    0  Blessé hospitalisé\n",
       "1         2       1    1     2    5   44     3    0             Indemne\n",
       "2         1       3    1     2    5   39     3    0        Blessé léger\n",
       "3         1       3    1     2    5   29     3    0  Blessé hospitalisé\n",
       "4         1       1    7     2    3   27     4    1             Indemne\n",
       "...     ...     ...  ...   ...  ...  ...   ...  ...                 ...\n",
       "767032    1       3    1     2    7   23     2    1        Blessé léger\n",
       "767033    1       3    1     2    7   27     2    1        Blessé léger\n",
       "767034    1       0    1     2    7   50     2    1        Blessé léger\n",
       "767035    1       3    1     2    7   50     2    1        Blessé léger\n",
       "767036    1       3    1     2    7   36     2    1             Indemne\n",
       "\n",
       "[767037 rows x 9 columns]"
      ]
     },
     "execution_count": 6,
     "metadata": {},
     "output_type": "execute_result"
    }
   ],
   "source": [
    "# Regardons maintenant la data :\n",
    "data_accident2"
   ]
  },
  {
   "cell_type": "code",
   "execution_count": null,
   "id": "bac26a86",
   "metadata": {},
   "outputs": [],
   "source": [
    "# Je souhaite voir le Dtype de mes données et l'information generale de ma data frame :"
   ]
  },
  {
   "cell_type": "code",
   "execution_count": null,
   "id": "c585018e",
   "metadata": {},
   "outputs": [],
   "source": [
    "data_accident2.info()\n",
    "<class 'pandas.core.frame.DataFrame'>\n",
    "RangeIndex: 767037 entries, 0 to 767036\n",
    "Data columns (total 9 columns):\n",
    " #   Column  Non-Null Count   Dtype \n",
    "---  ------  --------------   ----- \n",
    " 0   lum     767037 non-null  int64 \n",
    " 1   trajet  767037 non-null  int64 \n",
    " 2   atm     767037 non-null  int64 \n",
    " 3   surf    767037 non-null  int64 \n",
    " 4   vma     767037 non-null  int64 \n",
    " 5   age     767037 non-null  int64 \n",
    " 6   catr    767037 non-null  int64 \n",
    " 7   agg     767037 non-null  int64 \n",
    " 8   grav    767037 non-null  object\n",
    "dtypes: int64(8), object(1)\n",
    "memory usage: 52.7+ MB"
   ]
  },
  {
   "cell_type": "markdown",
   "id": "8bf5d073",
   "metadata": {},
   "source": [
    "# on voit que 'grav' c'est un  object, pour entrainer nous donées ils deuvent être homogènes donc on va transformer object en int64"
   ]
  },
  {
   "cell_type": "code",
   "execution_count": 8,
   "id": "83692e72",
   "metadata": {},
   "outputs": [
    {
     "name": "stdout",
     "output_type": "stream",
     "text": [
      "['Blessé hospitalisé' 'Indemne' 'Blessé léger' 'Tué' -1]\n"
     ]
    }
   ],
   "source": [
    "print(data_accident2['grav'].unique())"
   ]
  },
  {
   "cell_type": "code",
   "execution_count": 9,
   "id": "1b25fca3",
   "metadata": {},
   "outputs": [],
   "source": [
    "data_accident2['grav'].replace({'Blessé hospitalisé': 3, 'Indemne': 1, 'Blessé léger': 2, 'Tué': 4, '-1': 0}, inplace=True)"
   ]
  },
  {
   "cell_type": "code",
   "execution_count": 10,
   "id": "74788839",
   "metadata": {},
   "outputs": [
    {
     "name": "stdout",
     "output_type": "stream",
     "text": [
      "[ 3  1  2  4 -1]\n"
     ]
    }
   ],
   "source": [
    "print(data_accident2['grav'].unique())"
   ]
  },
  {
   "cell_type": "markdown",
   "id": "9d2dc026",
   "metadata": {},
   "source": [
    "# Maintenant 'grav' c'est un 'int64' et non pas 'object' :"
   ]
  },
  {
   "cell_type": "code",
   "execution_count": 11,
   "id": "2fd41fcb",
   "metadata": {},
   "outputs": [
    {
     "name": "stdout",
     "output_type": "stream",
     "text": [
      "<class 'pandas.core.frame.DataFrame'>\n",
      "RangeIndex: 767037 entries, 0 to 767036\n",
      "Data columns (total 9 columns):\n",
      " #   Column  Non-Null Count   Dtype\n",
      "---  ------  --------------   -----\n",
      " 0   lum     767037 non-null  int64\n",
      " 1   trajet  767037 non-null  int64\n",
      " 2   atm     767037 non-null  int64\n",
      " 3   surf    767037 non-null  int64\n",
      " 4   vma     767037 non-null  int64\n",
      " 5   age     767037 non-null  int64\n",
      " 6   catr    767037 non-null  int64\n",
      " 7   agg     767037 non-null  int64\n",
      " 8   grav    767037 non-null  int64\n",
      "dtypes: int64(9)\n",
      "memory usage: 52.7 MB\n"
     ]
    }
   ],
   "source": [
    "# Maintenant 'grav' c'est un 'int64' et non pas 'object' :\n",
    "\n",
    "data_accident2.info()"
   ]
  },
  {
   "cell_type": "markdown",
   "id": "b597fd30",
   "metadata": {},
   "source": [
    "# Nous allons déterminer nos X, Y et les encoder pour entraîner notre modèle sur la sélection des données :"
   ]
  },
  {
   "cell_type": "code",
   "execution_count": 14,
   "id": "67837dc1",
   "metadata": {},
   "outputs": [],
   "source": [
    "X = data_accident2[columns[:-1]]\n",
    "y = data_accident2['grav']\n",
    "lum_labelEncoder = LabelEncoder()\n",
    "trajet_labelEncoder = LabelEncoder()\n",
    "surf_labelEncoder = LabelEncoder()\n",
    "vma_labelEncoder = LabelEncoder()\n",
    "age_labelEncoder = LabelEncoder()\n",
    "agg_labelEncoder = LabelEncoder()\n",
    "catr_labelEncoder = LabelEncoder()\n",
    "atm_labelEncoder = LabelEncoder()\n",
    "\n",
    "\n",
    "X['lum'] = lum_labelEncoder.fit_transform(data_accident2['lum'])\n",
    "X['trajet'] = trajet_labelEncoder.fit_transform(data_accident2['trajet'])\n",
    "X['surf'] = surf_labelEncoder.fit_transform(data_accident2['surf'])\n",
    "X['vma'] = vma_labelEncoder.fit_transform(data_accident2['vma'])\n",
    "X['age'] = age_labelEncoder.fit_transform(data_accident2['age'])\n",
    "X['agg'] = agg_labelEncoder.fit_transform(data_accident2['agg'])\n",
    "X['catr'] = catr_labelEncoder.fit_transform(data_accident2['catr'])\n",
    "X['atm'] = atm_labelEncoder.fit_transform(data_accident2['atm'])"
   ]
  },
  {
   "cell_type": "markdown",
   "id": "814460c1",
   "metadata": {},
   "source": [
    "# création des variables indicatrices à partir des variables catégorielles de l'ensemble de données représenté par la variable \"X\":"
   ]
  },
  {
   "cell_type": "code",
   "execution_count": 15,
   "id": "4e930485",
   "metadata": {},
   "outputs": [
    {
     "name": "stdout",
     "output_type": "stream",
     "text": [
      "Shape du dataset d'entrainement : (536925, 9) | Shape du dataset de test : (230112, 9)\n"
     ]
    }
   ],
   "source": [
    "X = pd.get_dummies(X)\n",
    "#print(X)\n",
    "X_train, X_test, y_train, y_test = train_test_split(X, y, test_size=0.3, random_state=0)\n",
    "print(\"Shape du dataset d'entrainement : {} | Shape du dataset de test : {}\".format(X_train.shape, X_test.shape))"
   ]
  },
  {
   "cell_type": "code",
   "execution_count": 27,
   "id": "149a6d00",
   "metadata": {},
   "outputs": [],
   "source": [
    "#RandomForest\n",
    "clf=RandomForestClassifier(n_estimators=100)\n",
    "clf.fit(X_train,y_train)\n",
    "y_pred=clf.predict(X_test)"
   ]
  },
  {
   "cell_type": "code",
   "execution_count": 26,
   "id": "b06a303d",
   "metadata": {},
   "outputs": [
    {
     "data": {
      "text/html": [
       "<div>\n",
       "<style scoped>\n",
       "    .dataframe tbody tr th:only-of-type {\n",
       "        vertical-align: middle;\n",
       "    }\n",
       "\n",
       "    .dataframe tbody tr th {\n",
       "        vertical-align: top;\n",
       "    }\n",
       "\n",
       "    .dataframe thead th {\n",
       "        text-align: right;\n",
       "    }\n",
       "</style>\n",
       "<table border=\"1\" class=\"dataframe\">\n",
       "  <thead>\n",
       "    <tr style=\"text-align: right;\">\n",
       "      <th></th>\n",
       "      <th>lum</th>\n",
       "      <th>trajet</th>\n",
       "      <th>grav</th>\n",
       "      <th>atm</th>\n",
       "      <th>surf</th>\n",
       "      <th>vma</th>\n",
       "      <th>age</th>\n",
       "      <th>catr</th>\n",
       "      <th>agg</th>\n",
       "    </tr>\n",
       "  </thead>\n",
       "  <tbody>\n",
       "    <tr>\n",
       "      <th>394059</th>\n",
       "      <td>3</td>\n",
       "      <td>4</td>\n",
       "      <td>2</td>\n",
       "      <td>2</td>\n",
       "      <td>2</td>\n",
       "      <td>1</td>\n",
       "      <td>30</td>\n",
       "      <td>2</td>\n",
       "      <td>0</td>\n",
       "    </tr>\n",
       "    <tr>\n",
       "      <th>674815</th>\n",
       "      <td>1</td>\n",
       "      <td>5</td>\n",
       "      <td>2</td>\n",
       "      <td>2</td>\n",
       "      <td>2</td>\n",
       "      <td>7</td>\n",
       "      <td>47</td>\n",
       "      <td>2</td>\n",
       "      <td>0</td>\n",
       "    </tr>\n",
       "    <tr>\n",
       "      <th>124618</th>\n",
       "      <td>2</td>\n",
       "      <td>1</td>\n",
       "      <td>3</td>\n",
       "      <td>2</td>\n",
       "      <td>2</td>\n",
       "      <td>3</td>\n",
       "      <td>58</td>\n",
       "      <td>3</td>\n",
       "      <td>0</td>\n",
       "    </tr>\n",
       "    <tr>\n",
       "      <th>353515</th>\n",
       "      <td>2</td>\n",
       "      <td>3</td>\n",
       "      <td>2</td>\n",
       "      <td>2</td>\n",
       "      <td>2</td>\n",
       "      <td>3</td>\n",
       "      <td>54</td>\n",
       "      <td>3</td>\n",
       "      <td>1</td>\n",
       "    </tr>\n",
       "    <tr>\n",
       "      <th>37171</th>\n",
       "      <td>1</td>\n",
       "      <td>1</td>\n",
       "      <td>1</td>\n",
       "      <td>2</td>\n",
       "      <td>2</td>\n",
       "      <td>3</td>\n",
       "      <td>38</td>\n",
       "      <td>2</td>\n",
       "      <td>1</td>\n",
       "    </tr>\n",
       "    <tr>\n",
       "      <th>...</th>\n",
       "      <td>...</td>\n",
       "      <td>...</td>\n",
       "      <td>...</td>\n",
       "      <td>...</td>\n",
       "      <td>...</td>\n",
       "      <td>...</td>\n",
       "      <td>...</td>\n",
       "      <td>...</td>\n",
       "      <td>...</td>\n",
       "    </tr>\n",
       "    <tr>\n",
       "      <th>359783</th>\n",
       "      <td>1</td>\n",
       "      <td>5</td>\n",
       "      <td>1</td>\n",
       "      <td>3</td>\n",
       "      <td>3</td>\n",
       "      <td>3</td>\n",
       "      <td>50</td>\n",
       "      <td>3</td>\n",
       "      <td>1</td>\n",
       "    </tr>\n",
       "    <tr>\n",
       "      <th>152315</th>\n",
       "      <td>1</td>\n",
       "      <td>0</td>\n",
       "      <td>1</td>\n",
       "      <td>2</td>\n",
       "      <td>2</td>\n",
       "      <td>5</td>\n",
       "      <td>40</td>\n",
       "      <td>2</td>\n",
       "      <td>0</td>\n",
       "    </tr>\n",
       "    <tr>\n",
       "      <th>117952</th>\n",
       "      <td>1</td>\n",
       "      <td>8</td>\n",
       "      <td>1</td>\n",
       "      <td>2</td>\n",
       "      <td>2</td>\n",
       "      <td>6</td>\n",
       "      <td>0</td>\n",
       "      <td>2</td>\n",
       "      <td>0</td>\n",
       "    </tr>\n",
       "    <tr>\n",
       "      <th>435829</th>\n",
       "      <td>3</td>\n",
       "      <td>4</td>\n",
       "      <td>1</td>\n",
       "      <td>2</td>\n",
       "      <td>2</td>\n",
       "      <td>1</td>\n",
       "      <td>26</td>\n",
       "      <td>3</td>\n",
       "      <td>1</td>\n",
       "    </tr>\n",
       "    <tr>\n",
       "      <th>305711</th>\n",
       "      <td>1</td>\n",
       "      <td>4</td>\n",
       "      <td>2</td>\n",
       "      <td>9</td>\n",
       "      <td>3</td>\n",
       "      <td>3</td>\n",
       "      <td>23</td>\n",
       "      <td>3</td>\n",
       "      <td>1</td>\n",
       "    </tr>\n",
       "  </tbody>\n",
       "</table>\n",
       "<p>536925 rows × 9 columns</p>\n",
       "</div>"
      ],
      "text/plain": [
       "        lum  trajet  grav  atm  surf  vma  age  catr  agg\n",
       "394059    3       4     2    2     2    1   30     2    0\n",
       "674815    1       5     2    2     2    7   47     2    0\n",
       "124618    2       1     3    2     2    3   58     3    0\n",
       "353515    2       3     2    2     2    3   54     3    1\n",
       "37171     1       1     1    2     2    3   38     2    1\n",
       "...     ...     ...   ...  ...   ...  ...  ...   ...  ...\n",
       "359783    1       5     1    3     3    3   50     3    1\n",
       "152315    1       0     1    2     2    5   40     2    0\n",
       "117952    1       8     1    2     2    6    0     2    0\n",
       "435829    3       4     1    2     2    1   26     3    1\n",
       "305711    1       4     2    9     3    3   23     3    1\n",
       "\n",
       "[536925 rows x 9 columns]"
      ]
     },
     "execution_count": 26,
     "metadata": {},
     "output_type": "execute_result"
    }
   ],
   "source": [
    "X_train"
   ]
  },
  {
   "cell_type": "markdown",
   "id": "b02533e6",
   "metadata": {},
   "source": [
    "# Création une matrice de confusion (confusion matrix) et la visualiser sous la forme d'une heatmap:"
   ]
  },
  {
   "cell_type": "raw",
   "id": "0867d5e9",
   "metadata": {},
   "source": [
    "c'est une table qui montre le nombre de prédictions correctes et incorrectes faites par un modèle pour chaque classe de la variable cible. Les prédictions correctes sont représentées sur la diagonale principale de la matrice, tandis que les prédictions incorrectes sont représentées en dehors de la diagonale principale:"
   ]
  },
  {
   "cell_type": "code",
   "execution_count": 25,
   "id": "fec1dcbb",
   "metadata": {},
   "outputs": [
    {
     "data": {
      "text/plain": [
       "<AxesSubplot:>"
      ]
     },
     "execution_count": 25,
     "metadata": {},
     "output_type": "execute_result"
    },
    {
     "data": {
      "image/png": "[encoded data removed]",
      "text/plain": [
       "<Figure size 640x480 with 2 Axes>"
      ]
     },
     "metadata": {},
     "output_type": "display_data"
    }
   ],
   "source": [
    "cm = confusion_matrix(y_test,y_pred)\n",
    "sns.heatmap(cm, annot=True, fmt='g')"
   ]
  },
  {
   "cell_type": "code",
   "execution_count": 20,
   "id": "c1d62eea",
   "metadata": {},
   "outputs": [],
   "source": [
    "feature_imp = pd.Series(clf.feature_importances_, index=X.columns).sort_values(ascending=False)"
   ]
  },
  {
   "cell_type": "code",
   "execution_count": 21,
   "id": "262d74d5",
   "metadata": {},
   "outputs": [
    {
     "data": {
      "text/plain": [
       "grav      0.971610\n",
       "age       0.007465\n",
       "catr      0.007314\n",
       "trajet    0.005382\n",
       "agg       0.005009\n",
       "vma       0.001762\n",
       "lum       0.000685\n",
       "atm       0.000410\n",
       "surf      0.000362\n",
       "dtype: float64"
      ]
     },
     "execution_count": 21,
     "metadata": {},
     "output_type": "execute_result"
    }
   ],
   "source": [
    "feature_imp"
   ]
  },
  {
   "cell_type": "code",
   "execution_count": 22,
   "id": "cd7ea625",
   "metadata": {},
   "outputs": [
    {
     "data": {
      "text/plain": [
       "Text(0.5, 1.0, 'Visualizing Important Features')"
      ]
     },
     "execution_count": 22,
     "metadata": {},
     "output_type": "execute_result"
    },
    {
     "data": {
      "image/png": "[encoded data removed]",
      "text/plain": [
       "<Figure size 1600x900 with 1 Axes>"
      ]
     },
     "metadata": {},
     "output_type": "display_data"
    }
   ],
   "source": [
    "#plot\n",
    "plt.figure(figsize=(16,9))\n",
    "sns.barplot(x=feature_imp, y=feature_imp.index)\n",
    "plt.xlabel('Feature Importance Score')\n",
    "plt.ylabel('Features')\n",
    "plt.title(\"Visualizing Important Features\")"
   ]
  },
  {
   "cell_type": "code",
   "execution_count": 28,
   "id": "b47b9f14",
   "metadata": {},
   "outputs": [
    {
     "data": {
      "text/plain": [
       "array([7.00008965e-04, 5.79827683e-03, 9.70383512e-01, 3.95476033e-04,\n",
       "       3.57808397e-04, 1.42631673e-03, 8.32212565e-03, 8.00978909e-03,\n",
       "       4.60668673e-03])"
      ]
     },
     "execution_count": 28,
     "metadata": {},
     "output_type": "execute_result"
    }
   ],
   "source": [
    "clf.feature_importances_"
   ]
  },
  {
   "cell_type": "code",
   "execution_count": 29,
   "id": "bb805046",
   "metadata": {},
   "outputs": [
    {
     "name": "stdout",
     "output_type": "stream",
     "text": [
      "9\n"
     ]
    }
   ],
   "source": [
    "print(len(feature_imp.index))"
   ]
  },
  {
   "cell_type": "code",
   "execution_count": 30,
   "id": "7c41b6e4",
   "metadata": {},
   "outputs": [
    {
     "data": {
      "text/plain": [
       "['lum', 'trajet', 'grav', 'atm', 'surf', 'vma', 'age', 'catr']"
      ]
     },
     "execution_count": 30,
     "metadata": {},
     "output_type": "execute_result"
    }
   ],
   "source": [
    "columns[:-1]"
   ]
  },
  {
   "cell_type": "code",
   "execution_count": 39,
   "id": "012f61f6",
   "metadata": {},
   "outputs": [
    {
     "data": {
      "text/plain": [
       "array([1, 1, 1, ..., 1, 2, 2], dtype=int64)"
      ]
     },
     "execution_count": 39,
     "metadata": {},
     "output_type": "execute_result"
    }
   ],
   "source": [
    "y_pred"
   ]
  },
  {
   "cell_type": "code",
   "execution_count": 36,
   "id": "eafdbb01",
   "metadata": {},
   "outputs": [
    {
     "data": {
      "text/plain": [
       "703205    1\n",
       "266869    1\n",
       "337734    1\n",
       "661889    1\n",
       "480244    1\n",
       "         ..\n",
       "63405     1\n",
       "652050    1\n",
       "467940    1\n",
       "466167    2\n",
       "141572    2\n",
       "Name: grav, Length: 230112, dtype: int64"
      ]
     },
     "execution_count": 36,
     "metadata": {},
     "output_type": "execute_result"
    }
   ],
   "source": [
    "y_test"
   ]
  },
  {
   "cell_type": "code",
   "execution_count": 40,
   "id": "bf3c57fd",
   "metadata": {},
   "outputs": [],
   "source": [
    "# one-hot encode the categorical variables in the feature matrix\n",
    "X_train = pd.get_dummies(X_train)\n",
    "X_test = pd.get_dummies(X_test)\n",
    "\n",
    "# one-hot encode the target variable\n",
    "y_train = pd.get_dummies(y_train)\n",
    "y_test = pd.get_dummies(y_test)\n"
   ]
  },
  {
   "cell_type": "code",
   "execution_count": 41,
   "id": "38a61e93",
   "metadata": {},
   "outputs": [
    {
     "name": "stdout",
     "output_type": "stream",
     "text": [
      "L'accuracy moyenne pour 10 'fold cross validation' est 100.0%\n"
     ]
    }
   ],
   "source": [
    "scores = cross_val_score(clf, X_train, y_train, scoring='accuracy').mean()\n",
    "print(\"L'accuracy moyenne pour 10 'fold cross validation' est {}%\".format(round(scores*100,2)))"
   ]
  },
  {
   "cell_type": "code",
   "execution_count": 46,
   "id": "01a30574",
   "metadata": {},
   "outputs": [],
   "source": [
    "clf=RandomForestClassifier(n_estimators=100)\n",
    "clf.fit(X_train,y_train)\n",
    "y_pred=clf.predict(X_test)"
   ]
  },
  {
   "cell_type": "code",
   "execution_count": 47,
   "id": "fb86e7c1",
   "metadata": {},
   "outputs": [
    {
     "ename": "ValueError",
     "evalue": "multilabel-indicator is not supported",
     "output_type": "error",
     "traceback": [
      "\u001b[1;31m---------------------------------------------------------------------------\u001b[0m",
      "\u001b[1;31mValueError\u001b[0m                                Traceback (most recent call last)",
      "\u001b[1;32m~\\AppData\\Local\\Temp\\ipykernel_12800\\4240971700.py\u001b[0m in \u001b[0;36m<module>\u001b[1;34m\u001b[0m\n\u001b[1;32m----> 1\u001b[1;33m \u001b[0mcm\u001b[0m \u001b[1;33m=\u001b[0m \u001b[0mconfusion_matrix\u001b[0m\u001b[1;33m(\u001b[0m\u001b[0my_test\u001b[0m\u001b[1;33m,\u001b[0m\u001b[0my_pred\u001b[0m\u001b[1;33m)\u001b[0m\u001b[1;33m\u001b[0m\u001b[1;33m\u001b[0m\u001b[0m\n\u001b[0m\u001b[0;32m      2\u001b[0m \u001b[0msns\u001b[0m\u001b[1;33m.\u001b[0m\u001b[0mheatmap\u001b[0m\u001b[1;33m(\u001b[0m\u001b[0mcm\u001b[0m\u001b[1;33m,\u001b[0m \u001b[0mannot\u001b[0m\u001b[1;33m=\u001b[0m\u001b[1;32mTrue\u001b[0m\u001b[1;33m,\u001b[0m \u001b[0mfmt\u001b[0m\u001b[1;33m=\u001b[0m\u001b[1;34m'g'\u001b[0m\u001b[1;33m)\u001b[0m\u001b[1;33m\u001b[0m\u001b[1;33m\u001b[0m\u001b[0m\n",
      "\u001b[1;32m~\\anaconda3\\lib\\site-packages\\sklearn\\metrics\\_classification.py\u001b[0m in \u001b[0;36mconfusion_matrix\u001b[1;34m(y_true, y_pred, labels, sample_weight, normalize)\u001b[0m\n\u001b[0;32m    307\u001b[0m     \u001b[0my_type\u001b[0m\u001b[1;33m,\u001b[0m \u001b[0my_true\u001b[0m\u001b[1;33m,\u001b[0m \u001b[0my_pred\u001b[0m \u001b[1;33m=\u001b[0m \u001b[0m_check_targets\u001b[0m\u001b[1;33m(\u001b[0m\u001b[0my_true\u001b[0m\u001b[1;33m,\u001b[0m \u001b[0my_pred\u001b[0m\u001b[1;33m)\u001b[0m\u001b[1;33m\u001b[0m\u001b[1;33m\u001b[0m\u001b[0m\n\u001b[0;32m    308\u001b[0m     \u001b[1;32mif\u001b[0m \u001b[0my_type\u001b[0m \u001b[1;32mnot\u001b[0m \u001b[1;32min\u001b[0m \u001b[1;33m(\u001b[0m\u001b[1;34m\"binary\"\u001b[0m\u001b[1;33m,\u001b[0m \u001b[1;34m\"multiclass\"\u001b[0m\u001b[1;33m)\u001b[0m\u001b[1;33m:\u001b[0m\u001b[1;33m\u001b[0m\u001b[1;33m\u001b[0m\u001b[0m\n\u001b[1;32m--> 309\u001b[1;33m         \u001b[1;32mraise\u001b[0m \u001b[0mValueError\u001b[0m\u001b[1;33m(\u001b[0m\u001b[1;34m\"%s is not supported\"\u001b[0m \u001b[1;33m%\u001b[0m \u001b[0my_type\u001b[0m\u001b[1;33m)\u001b[0m\u001b[1;33m\u001b[0m\u001b[1;33m\u001b[0m\u001b[0m\n\u001b[0m\u001b[0;32m    310\u001b[0m \u001b[1;33m\u001b[0m\u001b[0m\n\u001b[0;32m    311\u001b[0m     \u001b[1;32mif\u001b[0m \u001b[0mlabels\u001b[0m \u001b[1;32mis\u001b[0m \u001b[1;32mNone\u001b[0m\u001b[1;33m:\u001b[0m\u001b[1;33m\u001b[0m\u001b[1;33m\u001b[0m\u001b[0m\n",
      "\u001b[1;31mValueError\u001b[0m: multilabel-indicator is not supported"
     ]
    }
   ],
   "source": [
    "cm = confusion_matrix(y_test,y_pred)\n",
    "sns.heatmap(cm, annot=True, fmt='g')"
   ]
  }
 ],
 "metadata": {
  "kernelspec": {
   "display_name": "Python 3 (ipykernel)",
   "language": "python",
   "name": "python3"
  },
  "language_info": {
   "codemirror_mode": {
    "name": "ipython",
    "version": 3
   },
   "file_extension": ".py",
   "mimetype": "text/x-python",
   "name": "python",
   "nbconvert_exporter": "python",
   "pygments_lexer": "ipython3",
   "version": "3.9.13"
  }
 },
 "nbformat": 4,
 "nbformat_minor": 5
}
